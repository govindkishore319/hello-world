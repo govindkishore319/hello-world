{
 "cells": [
  {
   "cell_type": "code",
   "execution_count": 1,
   "id": "f5de2594",
   "metadata": {},
   "outputs": [],
   "source": [
    "strArr = \"X:-1\", \"Y:1\", \"X:-4\", \"B:3\", \"X:5\""
   ]
  },
  {
   "cell_type": "code",
   "execution_count": 2,
   "id": "fcd45670",
   "metadata": {},
   "outputs": [],
   "source": [
    "\n",
    "    dict = {}\n",
    "    \n",
    "    for item in strArr:\n",
    "        key,value = item.split(\":\")\n",
    "        \n",
    "        if key in dict:\n",
    "            dict[key] += int(value)\n",
    "            \n",
    "        else:\n",
    "            dict[key] = int(value)"
   ]
  },
  {
   "cell_type": "code",
   "execution_count": 5,
   "id": "dec53afa",
   "metadata": {},
   "outputs": [
    {
     "data": {
      "text/plain": [
       "dict_items([('X', 0), ('Y', 1), ('B', 3)])"
      ]
     },
     "execution_count": 5,
     "metadata": {},
     "output_type": "execute_result"
    }
   ],
   "source": [
    "dict.items()"
   ]
  },
  {
   "cell_type": "code",
   "execution_count": 6,
   "id": "4c832646",
   "metadata": {},
   "outputs": [],
   "source": [
    "sorted_dict = dict.items()\n",
    "sorted_dict = sorted(sorted_dict)"
   ]
  },
  {
   "cell_type": "code",
   "execution_count": 8,
   "id": "fa043601",
   "metadata": {},
   "outputs": [
    {
     "data": {
      "text/plain": [
       "list"
      ]
     },
     "execution_count": 8,
     "metadata": {},
     "output_type": "execute_result"
    }
   ],
   "source": [
    "type(sorted_dict)"
   ]
  },
  {
   "cell_type": "code",
   "execution_count": 10,
   "id": "1817cb43",
   "metadata": {},
   "outputs": [
    {
     "name": "stdout",
     "output_type": "stream",
     "text": [
      "B:3,Y:1\n"
     ]
    }
   ],
   "source": [
    "final = \"\"\n",
    "for key, value in sorted_dict:\n",
    "    if value!= 0:\n",
    "        final += key + \":\" + str(value) + \",\"\n",
    "        \n",
    "final = final[:-1]\n",
    "\n",
    "print(final)"
   ]
  },
  {
   "cell_type": "code",
   "execution_count": 1,
   "id": "b89f5942",
   "metadata": {},
   "outputs": [],
   "source": [
    "def BasicRomanNumerals(strParam):\n",
    "\n",
    "  # code goes here\n",
    "\n",
    "  roman_numerals = {'I': 1, 'V': 5, 'X': 10, 'L': 50, 'C':100, 'D':500, 'M': 1000}\n",
    "  numbers = 0\n",
    "\n",
    "  for i in range(len(strParam)):\n",
    "    value = roman_numerals[strParam[i]]\n",
    "    \n",
    "    if (i+1)< len(strParam) and roman_numerals[strParam[i+1]] > value:\n",
    "      numbers = numbers - value\n",
    "\n",
    "    else:\n",
    "      numbers = numbers + value\n",
    "  \n",
    "  return numbers"
   ]
  },
  {
   "cell_type": "code",
   "execution_count": 2,
   "id": "8a2802f7",
   "metadata": {},
   "outputs": [],
   "source": [
    "def GroupTotals(arr):\n",
    "\n",
    "  # code goes here\n",
    "  dict = {}\n",
    "    \n",
    "  for item in arr:\n",
    "    key,value = item.split(\":\")\n",
    "        \n",
    "    if key in dict:\n",
    "      dict[key] += int(value)\n",
    "            \n",
    "    else:\n",
    "      dict[key] = int(value)\n",
    "\n",
    "  sorted_dict = dict.items()\n",
    "  sorted_dict = sorted(sorted_dict)\n",
    "\n",
    "  temp = \"\"\n",
    "  for key, value in sorted_dict:\n",
    "    if value!= 0:\n",
    "      temp += key + \":\" + str(value) + \",\"\n",
    "\n",
    "  temp = temp[:-1]\n",
    "  \n",
    "  return temp"
   ]
  },
  {
   "cell_type": "code",
   "execution_count": 5,
   "id": "104368cb",
   "metadata": {},
   "outputs": [
    {
     "name": "stdout",
     "output_type": "stream",
     "text": [
      "2\n",
      "1\n",
      "3\n",
      "4\n",
      "1\n"
     ]
    }
   ],
   "source": [
    "arr = [2,1,3,4,1]\n",
    "for i in range(len(arr)):\n",
    "    print(arr[i])"
   ]
  },
  {
   "cell_type": "code",
   "execution_count": 7,
   "id": "1c5b4fd7",
   "metadata": {},
   "outputs": [],
   "source": [
    "import numpy as np\n",
    "area = np.array([])"
   ]
  },
  {
   "cell_type": "code",
   "execution_count": 8,
   "id": "c25056db",
   "metadata": {},
   "outputs": [
    {
     "data": {
      "text/plain": [
       "array([], dtype=float64)"
      ]
     },
     "execution_count": 8,
     "metadata": {},
     "output_type": "execute_result"
    }
   ],
   "source": [
    "area"
   ]
  },
  {
   "cell_type": "code",
   "execution_count": 9,
   "id": "4f864e1c",
   "metadata": {},
   "outputs": [],
   "source": [
    "arr = [2,1,3,4,1]"
   ]
  },
  {
   "cell_type": "code",
   "execution_count": 18,
   "id": "96ec3918",
   "metadata": {},
   "outputs": [],
   "source": [
    "arr= [6,3,1,4,12,4]"
   ]
  },
  {
   "cell_type": "code",
   "execution_count": 21,
   "id": "2c77f50f",
   "metadata": {},
   "outputs": [],
   "source": [
    "area = np.array([])\n",
    "\n",
    "i = 0\n",
    "max_area = 0\n",
    "\n",
    "for i in range(len(arr)-1):\n",
    "    if (arr[i] < arr[i+1]):\n",
    "        ar = arr[i]*2\n",
    "        area = np.append(area, ar)\n",
    "        \n",
    "max_area = area.max()"
   ]
  },
  {
   "cell_type": "code",
   "execution_count": 22,
   "id": "1b3a28e9",
   "metadata": {},
   "outputs": [
    {
     "data": {
      "text/plain": [
       "8.0"
      ]
     },
     "execution_count": 22,
     "metadata": {},
     "output_type": "execute_result"
    }
   ],
   "source": [
    "max_area"
   ]
  },
  {
   "cell_type": "code",
   "execution_count": 26,
   "id": "34f7f905",
   "metadata": {},
   "outputs": [],
   "source": [
    "area = np.array([])\n",
    "\n",
    "i = 0\n",
    "max_area = 0\n",
    "\n",
    "for i in range(len(arr)-1):\n",
    "    if (arr[i] < arr[i+1]):\n",
    "        if(arr[i] <= arr[i+2]):\n",
    "            ar2 = arr[i]*3\n",
    "            area = np.append(area,ar2)\n",
    "            \n",
    "        ar = arr[i]*2\n",
    "        area = np.append(area, ar)\n",
    "        \n",
    "max_area = area.max()"
   ]
  },
  {
   "cell_type": "code",
   "execution_count": 27,
   "id": "2e19035c",
   "metadata": {},
   "outputs": [
    {
     "data": {
      "text/plain": [
       "15.0"
      ]
     },
     "execution_count": 27,
     "metadata": {},
     "output_type": "execute_result"
    }
   ],
   "source": [
    "max_area"
   ]
  },
  {
   "cell_type": "code",
   "execution_count": 25,
   "id": "4d820d06",
   "metadata": {},
   "outputs": [],
   "source": [
    "arr= [5,6,7,4,1]"
   ]
  },
  {
   "cell_type": "markdown",
   "id": "8aa6bc4b",
   "metadata": {},
   "source": [
    "### Q5: Queen Check"
   ]
  },
  {
   "cell_type": "code",
   "execution_count": 86,
   "id": "7dcad40e",
   "metadata": {},
   "outputs": [],
   "source": [
    "strArr = [\"(3,1)\",\"(4,4)\"]"
   ]
  },
  {
   "cell_type": "code",
   "execution_count": 87,
   "id": "9a1b1c7e",
   "metadata": {},
   "outputs": [],
   "source": [
    "strArr = np.array(strArr)"
   ]
  },
  {
   "cell_type": "code",
   "execution_count": 88,
   "id": "64c2d40b",
   "metadata": {},
   "outputs": [
    {
     "data": {
      "text/plain": [
       "array(['(3,1)', '(4,4)'], dtype='<U5')"
      ]
     },
     "execution_count": 88,
     "metadata": {},
     "output_type": "execute_result"
    }
   ],
   "source": [
    "strArr"
   ]
  },
  {
   "cell_type": "code",
   "execution_count": 89,
   "id": "f6ee0b48",
   "metadata": {},
   "outputs": [
    {
     "data": {
      "text/plain": [
       "'1'"
      ]
     },
     "execution_count": 89,
     "metadata": {},
     "output_type": "execute_result"
    }
   ],
   "source": [
    "strArr[0][3]"
   ]
  },
  {
   "cell_type": "code",
   "execution_count": 90,
   "id": "1eda8468",
   "metadata": {},
   "outputs": [],
   "source": [
    "queen = {'x1': strArr[0][1], 'y1': strArr[0][3]}\n",
    "king = {'x2': strArr[1][1], 'y2': strArr[1][3]}"
   ]
  },
  {
   "cell_type": "code",
   "execution_count": 91,
   "id": "cd83ce88",
   "metadata": {},
   "outputs": [
    {
     "name": "stdout",
     "output_type": "stream",
     "text": [
      "-1\n",
      "King is IN CHECK\n"
     ]
    }
   ],
   "source": [
    "if (king['x2'] == queen['x1'] and king['y2'] == queen['y1']):\n",
    "    print('Queen is captured, NOT IN CHECK')\n",
    "    \n",
    "elif (np.abs(int(king['x2'])- int(queen['x1'])) == 1) or (np.abs(int(king['y2'])- int(queen['y1'])) == 1):\n",
    "    print('-1')\n",
    "    print('King is IN CHECK')\n",
    "    \n",
    "else:\n",
    "    print(max(np.abs(int(king['x2'])- int(queen['x1'])), np.abs(int(king['y2'])- int(queen['y1']))))\n",
    "    "
   ]
  },
  {
   "cell_type": "markdown",
   "id": "d2879496",
   "metadata": {},
   "source": [
    "## Q6: 'Knight jumps'"
   ]
  },
  {
   "cell_type": "code",
   "execution_count": 116,
   "id": "2ad65057",
   "metadata": {},
   "outputs": [],
   "source": [
    "strParam = \"(4 5)\""
   ]
  },
  {
   "cell_type": "code",
   "execution_count": 117,
   "id": "64f681b1",
   "metadata": {},
   "outputs": [],
   "source": [
    "x,y = int(strParam[1]),int(strParam[3])"
   ]
  },
  {
   "cell_type": "code",
   "execution_count": 119,
   "id": "44c961cc",
   "metadata": {},
   "outputs": [],
   "source": [
    "comparisons = [\"x+2 <= 8\", \"x-2 >= 0\", \"y+2 <= 8\", \"y-2 >= 0\"]"
   ]
  },
  {
   "cell_type": "code",
   "execution_count": 120,
   "id": "b12f0022",
   "metadata": {},
   "outputs": [],
   "source": [
    "results= []\n",
    "\n",
    "for i in range(len(comparisons)):\n",
    "    results.append(eval(comparisons[i]))"
   ]
  },
  {
   "cell_type": "code",
   "execution_count": 121,
   "id": "08cebf5b",
   "metadata": {},
   "outputs": [
    {
     "data": {
      "text/plain": [
       "[True, True, True, True]"
      ]
     },
     "execution_count": 121,
     "metadata": {},
     "output_type": "execute_result"
    }
   ],
   "source": [
    "results"
   ]
  },
  {
   "cell_type": "code",
   "execution_count": 122,
   "id": "28e97de1",
   "metadata": {},
   "outputs": [
    {
     "data": {
      "text/plain": [
       "4"
      ]
     },
     "execution_count": 122,
     "metadata": {},
     "output_type": "execute_result"
    }
   ],
   "source": [
    "np.count_nonzero(results)"
   ]
  },
  {
   "cell_type": "markdown",
   "id": "2203705f",
   "metadata": {},
   "source": [
    "### Q2: Food distribution"
   ]
  },
  {
   "cell_type": "code",
   "execution_count": 13,
   "id": "7241b4f9",
   "metadata": {},
   "outputs": [],
   "source": [
    "import numpy as np\n",
    "arr = [5,3,1,2,1]"
   ]
  },
  {
   "cell_type": "code",
   "execution_count": 20,
   "id": "ef00028f",
   "metadata": {},
   "outputs": [],
   "source": [
    "num_sandwiches = arr[0]\n",
    "difference = 0\n",
    "arr_diff= []"
   ]
  },
  {
   "cell_type": "code",
   "execution_count": 21,
   "id": "4334d713",
   "metadata": {},
   "outputs": [],
   "source": [
    "for i in range(1,len(arr)-1):\n",
    "    temp = np.abs(arr[i] - arr[i+1])\n",
    "    difference = difference + temp\n",
    "    arr_diff = np.append(arr_diff, temp)          "
   ]
  },
  {
   "cell_type": "code",
   "execution_count": 23,
   "id": "7b8ce495",
   "metadata": {},
   "outputs": [
    {
     "data": {
      "text/plain": [
       "4.0"
      ]
     },
     "execution_count": 23,
     "metadata": {},
     "output_type": "execute_result"
    }
   ],
   "source": [
    "sum(arr_diff)"
   ]
  },
  {
   "cell_type": "code",
   "execution_count": null,
   "id": "d5e08970",
   "metadata": {},
   "outputs": [],
   "source": [
    "for i in range(len(arr)-1):\n",
    "    combos = []\n",
    "    "
   ]
  },
  {
   "cell_type": "code",
   "execution_count": null,
   "id": "6ff4d0c5",
   "metadata": {},
   "outputs": [],
   "source": []
  },
  {
   "cell_type": "code",
   "execution_count": null,
   "id": "ceb4afec",
   "metadata": {},
   "outputs": [],
   "source": []
  },
  {
   "cell_type": "markdown",
   "id": "1f3b49f9",
   "metadata": {},
   "source": [
    "## Assignment 2:"
   ]
  },
  {
   "cell_type": "markdown",
   "id": "985eae1e",
   "metadata": {},
   "source": [
    "#### Q1: Permutation Step"
   ]
  },
  {
   "cell_type": "code",
   "execution_count": 31,
   "id": "ba7e40ce",
   "metadata": {},
   "outputs": [],
   "source": [
    "num= 123\n",
    "num = str(num)"
   ]
  },
  {
   "cell_type": "code",
   "execution_count": 25,
   "id": "c45ba316",
   "metadata": {},
   "outputs": [],
   "source": [
    "perm_list = []"
   ]
  },
  {
   "cell_type": "code",
   "execution_count": 35,
   "id": "55da6aad",
   "metadata": {},
   "outputs": [],
   "source": [
    "import itertools\n",
    "perm = list(itertools.permutations(num))"
   ]
  },
  {
   "cell_type": "code",
   "execution_count": 38,
   "id": "29b32145",
   "metadata": {},
   "outputs": [
    {
     "data": {
      "text/plain": [
       "tuple"
      ]
     },
     "execution_count": 38,
     "metadata": {},
     "output_type": "execute_result"
    }
   ],
   "source": [
    "type(perm[0])"
   ]
  },
  {
   "cell_type": "code",
   "execution_count": 39,
   "id": "30badf37",
   "metadata": {},
   "outputs": [],
   "source": [
    "res= [''.join(tups) for tups in perm]"
   ]
  },
  {
   "cell_type": "code",
   "execution_count": 40,
   "id": "e2cae440",
   "metadata": {},
   "outputs": [
    {
     "data": {
      "text/plain": [
       "['123', '132', '213', '231', '312', '321']"
      ]
     },
     "execution_count": 40,
     "metadata": {},
     "output_type": "execute_result"
    }
   ],
   "source": [
    "res"
   ]
  },
  {
   "cell_type": "code",
   "execution_count": 45,
   "id": "5f9f4b9b",
   "metadata": {},
   "outputs": [
    {
     "data": {
      "text/plain": [
       "[123, 132, 213, 231, 312, 321]"
      ]
     },
     "execution_count": 45,
     "metadata": {},
     "output_type": "execute_result"
    }
   ],
   "source": [
    "res2 = [eval(i) for i in res]\n",
    "res2"
   ]
  },
  {
   "cell_type": "code",
   "execution_count": 51,
   "id": "3effa697",
   "metadata": {},
   "outputs": [
    {
     "name": "stdout",
     "output_type": "stream",
     "text": [
      "[123, 132, 213, 231, 312, 321]\n"
     ]
    }
   ],
   "source": [
    "res2.sort()\n",
    "print(res2)"
   ]
  },
  {
   "cell_type": "code",
   "execution_count": 55,
   "id": "d65789a6",
   "metadata": {},
   "outputs": [],
   "source": [
    "for i in range(len(res2)):\n",
    "    if res2[i] > int(num):\n",
    "        break\n",
    "    else:\n",
    "        continue\n",
    "        \n",
    "num = res2[i]"
   ]
  },
  {
   "cell_type": "code",
   "execution_count": 56,
   "id": "a6c36976",
   "metadata": {},
   "outputs": [
    {
     "data": {
      "text/plain": [
       "132"
      ]
     },
     "execution_count": 56,
     "metadata": {},
     "output_type": "execute_result"
    }
   ],
   "source": [
    "num"
   ]
  },
  {
   "cell_type": "markdown",
   "id": "0786c2db",
   "metadata": {},
   "source": [
    "### Q3: Reverse a string"
   ]
  },
  {
   "cell_type": "code",
   "execution_count": 70,
   "id": "1e50ca29",
   "metadata": {},
   "outputs": [],
   "source": [
    "s = 'My name is Govind'"
   ]
  },
  {
   "cell_type": "code",
   "execution_count": 71,
   "id": "73ba3a3e",
   "metadata": {},
   "outputs": [
    {
     "name": "stdout",
     "output_type": "stream",
     "text": [
      "eman ym si dnivoG\n"
     ]
    }
   ],
   "source": [
    "s = 'Govind is my name'\n",
    "s = s[::-1]\n",
    "print(s)"
   ]
  },
  {
   "cell_type": "markdown",
   "id": "85234aea",
   "metadata": {},
   "source": [
    "### Q4: Swap Case"
   ]
  },
  {
   "cell_type": "code",
   "execution_count": 73,
   "id": "a49d357b",
   "metadata": {},
   "outputs": [
    {
     "data": {
      "text/plain": [
       "'mY NAME IS gOVIND'"
      ]
     },
     "execution_count": 73,
     "metadata": {},
     "output_type": "execute_result"
    }
   ],
   "source": [
    "s = 'My name is Govind'\n",
    "s.swapcase()"
   ]
  },
  {
   "cell_type": "markdown",
   "id": "5bc01b15",
   "metadata": {},
   "source": [
    "### Q5: Charlie the Dog"
   ]
  },
  {
   "cell_type": "code",
   "execution_count": 178,
   "id": "cb77e290",
   "metadata": {},
   "outputs": [],
   "source": [
    "arr = [\"FOOF\", \"OCOO\", \"OOOH\", \"FOOO\"]"
   ]
  },
  {
   "cell_type": "code",
   "execution_count": 179,
   "id": "bbfaee90",
   "metadata": {},
   "outputs": [],
   "source": [
    "arr2 = []\n",
    "for i in range(len(arr)):\n",
    "    arr2.append(arr[i].split(\" \"))\n",
    "    "
   ]
  },
  {
   "cell_type": "code",
   "execution_count": 180,
   "id": "619fb3da",
   "metadata": {},
   "outputs": [
    {
     "data": {
      "text/plain": [
       "[['FOOF'], ['OCOO'], ['OOOH'], ['FOOO']]"
      ]
     },
     "execution_count": 180,
     "metadata": {},
     "output_type": "execute_result"
    }
   ],
   "source": [
    "arr2"
   ]
  },
  {
   "cell_type": "code",
   "execution_count": 152,
   "id": "c3b67e30",
   "metadata": {},
   "outputs": [
    {
     "data": {
      "text/plain": [
       "array(['FOOF', 'OCOO', 'OOOH', 'FOOO'], dtype='<U4')"
      ]
     },
     "execution_count": 152,
     "metadata": {},
     "output_type": "execute_result"
    }
   ],
   "source": [
    "arr = np.array(list(arr))\n",
    "arr"
   ]
  },
  {
   "cell_type": "code",
   "execution_count": 181,
   "id": "3c0a8023",
   "metadata": {},
   "outputs": [],
   "source": [
    "arr2 = np.expand_dims(arr2, axis = 1)"
   ]
  },
  {
   "cell_type": "code",
   "execution_count": 182,
   "id": "c7d9e22b",
   "metadata": {},
   "outputs": [
    {
     "data": {
      "text/plain": [
       "array([[['FOOF']],\n",
       "\n",
       "       [['OCOO']],\n",
       "\n",
       "       [['OOOH']],\n",
       "\n",
       "       [['FOOO']]], dtype='<U4')"
      ]
     },
     "execution_count": 182,
     "metadata": {},
     "output_type": "execute_result"
    }
   ],
   "source": [
    "arr2"
   ]
  },
  {
   "cell_type": "code",
   "execution_count": 135,
   "id": "882133c0",
   "metadata": {},
   "outputs": [
    {
     "ename": "ValueError",
     "evalue": "all the input arrays must have same number of dimensions, but the array at index 0 has 2 dimension(s) and the array at index 1 has 0 dimension(s)",
     "output_type": "error",
     "traceback": [
      "\u001b[1;31m---------------------------------------------------------------------------\u001b[0m",
      "\u001b[1;31mValueError\u001b[0m                                Traceback (most recent call last)",
      "\u001b[1;32m~\\AppData\\Local\\Temp\\ipykernel_22316\\2878711891.py\u001b[0m in \u001b[0;36m<module>\u001b[1;34m\u001b[0m\n\u001b[0;32m      1\u001b[0m \u001b[0marr2\u001b[0m \u001b[1;33m=\u001b[0m \u001b[0mnp\u001b[0m\u001b[1;33m.\u001b[0m\u001b[0marray\u001b[0m\u001b[1;33m(\u001b[0m\u001b[1;33m[\u001b[0m\u001b[1;33m[\u001b[0m\u001b[1;33m]\u001b[0m\u001b[1;33m]\u001b[0m\u001b[1;33m)\u001b[0m\u001b[1;33m\u001b[0m\u001b[1;33m\u001b[0m\u001b[0m\n\u001b[0;32m      2\u001b[0m \u001b[1;32mfor\u001b[0m \u001b[0mi\u001b[0m \u001b[1;32min\u001b[0m \u001b[0mrange\u001b[0m\u001b[1;33m(\u001b[0m\u001b[0mlen\u001b[0m\u001b[1;33m(\u001b[0m\u001b[0marr\u001b[0m\u001b[1;33m)\u001b[0m\u001b[1;33m)\u001b[0m\u001b[1;33m:\u001b[0m\u001b[1;33m\u001b[0m\u001b[1;33m\u001b[0m\u001b[0m\n\u001b[1;32m----> 3\u001b[1;33m     \u001b[0marr2\u001b[0m \u001b[1;33m=\u001b[0m \u001b[0mnp\u001b[0m\u001b[1;33m.\u001b[0m\u001b[0mappend\u001b[0m\u001b[1;33m(\u001b[0m\u001b[0marr2\u001b[0m\u001b[1;33m,\u001b[0m \u001b[0marr\u001b[0m\u001b[1;33m[\u001b[0m\u001b[0mi\u001b[0m\u001b[1;33m]\u001b[0m\u001b[1;33m,\u001b[0m \u001b[0maxis\u001b[0m \u001b[1;33m=\u001b[0m \u001b[1;36m0\u001b[0m\u001b[1;33m)\u001b[0m\u001b[1;33m\u001b[0m\u001b[1;33m\u001b[0m\u001b[0m\n\u001b[0m",
      "\u001b[1;32m<__array_function__ internals>\u001b[0m in \u001b[0;36mappend\u001b[1;34m(*args, **kwargs)\u001b[0m\n",
      "\u001b[1;32m~\\anaconda3\\lib\\site-packages\\numpy\\lib\\function_base.py\u001b[0m in \u001b[0;36mappend\u001b[1;34m(arr, values, axis)\u001b[0m\n\u001b[0;32m   4815\u001b[0m         \u001b[0mvalues\u001b[0m \u001b[1;33m=\u001b[0m \u001b[0mravel\u001b[0m\u001b[1;33m(\u001b[0m\u001b[0mvalues\u001b[0m\u001b[1;33m)\u001b[0m\u001b[1;33m\u001b[0m\u001b[1;33m\u001b[0m\u001b[0m\n\u001b[0;32m   4816\u001b[0m         \u001b[0maxis\u001b[0m \u001b[1;33m=\u001b[0m \u001b[0marr\u001b[0m\u001b[1;33m.\u001b[0m\u001b[0mndim\u001b[0m\u001b[1;33m-\u001b[0m\u001b[1;36m1\u001b[0m\u001b[1;33m\u001b[0m\u001b[1;33m\u001b[0m\u001b[0m\n\u001b[1;32m-> 4817\u001b[1;33m     \u001b[1;32mreturn\u001b[0m \u001b[0mconcatenate\u001b[0m\u001b[1;33m(\u001b[0m\u001b[1;33m(\u001b[0m\u001b[0marr\u001b[0m\u001b[1;33m,\u001b[0m \u001b[0mvalues\u001b[0m\u001b[1;33m)\u001b[0m\u001b[1;33m,\u001b[0m \u001b[0maxis\u001b[0m\u001b[1;33m=\u001b[0m\u001b[0maxis\u001b[0m\u001b[1;33m)\u001b[0m\u001b[1;33m\u001b[0m\u001b[1;33m\u001b[0m\u001b[0m\n\u001b[0m\u001b[0;32m   4818\u001b[0m \u001b[1;33m\u001b[0m\u001b[0m\n\u001b[0;32m   4819\u001b[0m \u001b[1;33m\u001b[0m\u001b[0m\n",
      "\u001b[1;32m<__array_function__ internals>\u001b[0m in \u001b[0;36mconcatenate\u001b[1;34m(*args, **kwargs)\u001b[0m\n",
      "\u001b[1;31mValueError\u001b[0m: all the input arrays must have same number of dimensions, but the array at index 0 has 2 dimension(s) and the array at index 1 has 0 dimension(s)"
     ]
    }
   ],
   "source": [
    "arr2 = np.array([[]])\n",
    "for i in range(len(arr)):\n",
    "    arr2 = np.append(arr2, arr[i], axis = 0)"
   ]
  },
  {
   "cell_type": "code",
   "execution_count": 145,
   "id": "ddc23588",
   "metadata": {},
   "outputs": [],
   "source": [
    "arr3 = np.array([[]])"
   ]
  },
  {
   "cell_type": "code",
   "execution_count": 147,
   "id": "2da7fd4e",
   "metadata": {},
   "outputs": [
    {
     "ename": "ValueError",
     "evalue": "cannot reshape array of size 0 into shape (4,4)",
     "output_type": "error",
     "traceback": [
      "\u001b[1;31m---------------------------------------------------------------------------\u001b[0m",
      "\u001b[1;31mValueError\u001b[0m                                Traceback (most recent call last)",
      "\u001b[1;32m~\\AppData\\Local\\Temp\\ipykernel_22316\\41107167.py\u001b[0m in \u001b[0;36m<module>\u001b[1;34m\u001b[0m\n\u001b[1;32m----> 1\u001b[1;33m \u001b[0marr3\u001b[0m\u001b[1;33m.\u001b[0m\u001b[0mreshape\u001b[0m\u001b[1;33m(\u001b[0m\u001b[1;36m4\u001b[0m\u001b[1;33m,\u001b[0m\u001b[1;36m4\u001b[0m\u001b[1;33m)\u001b[0m\u001b[1;33m\u001b[0m\u001b[1;33m\u001b[0m\u001b[0m\n\u001b[0m",
      "\u001b[1;31mValueError\u001b[0m: cannot reshape array of size 0 into shape (4,4)"
     ]
    }
   ],
   "source": [
    "arr3.reshape(4,4)"
   ]
  },
  {
   "cell_type": "code",
   "execution_count": 138,
   "id": "f71fd940",
   "metadata": {},
   "outputs": [
    {
     "ename": "ValueError",
     "evalue": "all the input arrays must have same number of dimensions, but the array at index 0 has 2 dimension(s) and the array at index 1 has 0 dimension(s)",
     "output_type": "error",
     "traceback": [
      "\u001b[1;31m---------------------------------------------------------------------------\u001b[0m",
      "\u001b[1;31mValueError\u001b[0m                                Traceback (most recent call last)",
      "\u001b[1;32m~\\AppData\\Local\\Temp\\ipykernel_22316\\1101435033.py\u001b[0m in \u001b[0;36m<module>\u001b[1;34m\u001b[0m\n\u001b[1;32m----> 1\u001b[1;33m \u001b[0marr3\u001b[0m \u001b[1;33m=\u001b[0m \u001b[0mnp\u001b[0m\u001b[1;33m.\u001b[0m\u001b[0mappend\u001b[0m\u001b[1;33m(\u001b[0m\u001b[0marr3\u001b[0m\u001b[1;33m,\u001b[0m \u001b[0marr\u001b[0m\u001b[1;33m[\u001b[0m\u001b[0mi\u001b[0m\u001b[1;33m]\u001b[0m\u001b[1;33m,\u001b[0m \u001b[0maxis\u001b[0m \u001b[1;33m=\u001b[0m \u001b[1;36m0\u001b[0m\u001b[1;33m)\u001b[0m\u001b[1;33m\u001b[0m\u001b[1;33m\u001b[0m\u001b[0m\n\u001b[0m",
      "\u001b[1;32m<__array_function__ internals>\u001b[0m in \u001b[0;36mappend\u001b[1;34m(*args, **kwargs)\u001b[0m\n",
      "\u001b[1;32m~\\anaconda3\\lib\\site-packages\\numpy\\lib\\function_base.py\u001b[0m in \u001b[0;36mappend\u001b[1;34m(arr, values, axis)\u001b[0m\n\u001b[0;32m   4815\u001b[0m         \u001b[0mvalues\u001b[0m \u001b[1;33m=\u001b[0m \u001b[0mravel\u001b[0m\u001b[1;33m(\u001b[0m\u001b[0mvalues\u001b[0m\u001b[1;33m)\u001b[0m\u001b[1;33m\u001b[0m\u001b[1;33m\u001b[0m\u001b[0m\n\u001b[0;32m   4816\u001b[0m         \u001b[0maxis\u001b[0m \u001b[1;33m=\u001b[0m \u001b[0marr\u001b[0m\u001b[1;33m.\u001b[0m\u001b[0mndim\u001b[0m\u001b[1;33m-\u001b[0m\u001b[1;36m1\u001b[0m\u001b[1;33m\u001b[0m\u001b[1;33m\u001b[0m\u001b[0m\n\u001b[1;32m-> 4817\u001b[1;33m     \u001b[1;32mreturn\u001b[0m \u001b[0mconcatenate\u001b[0m\u001b[1;33m(\u001b[0m\u001b[1;33m(\u001b[0m\u001b[0marr\u001b[0m\u001b[1;33m,\u001b[0m \u001b[0mvalues\u001b[0m\u001b[1;33m)\u001b[0m\u001b[1;33m,\u001b[0m \u001b[0maxis\u001b[0m\u001b[1;33m=\u001b[0m\u001b[0maxis\u001b[0m\u001b[1;33m)\u001b[0m\u001b[1;33m\u001b[0m\u001b[1;33m\u001b[0m\u001b[0m\n\u001b[0m\u001b[0;32m   4818\u001b[0m \u001b[1;33m\u001b[0m\u001b[0m\n\u001b[0;32m   4819\u001b[0m \u001b[1;33m\u001b[0m\u001b[0m\n",
      "\u001b[1;32m<__array_function__ internals>\u001b[0m in \u001b[0;36mconcatenate\u001b[1;34m(*args, **kwargs)\u001b[0m\n",
      "\u001b[1;31mValueError\u001b[0m: all the input arrays must have same number of dimensions, but the array at index 0 has 2 dimension(s) and the array at index 1 has 0 dimension(s)"
     ]
    }
   ],
   "source": [
    "arr3 = np.append(arr3, arr[i], axis = 0)"
   ]
  },
  {
   "cell_type": "markdown",
   "id": "b6f6c0aa",
   "metadata": {},
   "source": [
    "************"
   ]
  },
  {
   "cell_type": "code",
   "execution_count": 136,
   "id": "1b335abf",
   "metadata": {},
   "outputs": [],
   "source": [
    "import numpy as np"
   ]
  },
  {
   "cell_type": "code",
   "execution_count": 137,
   "id": "d04c0f92",
   "metadata": {},
   "outputs": [],
   "source": [
    "arr = [\"FOOF\", \"OCOO\", \"OOOH\", \"FOOO\"]"
   ]
  },
  {
   "cell_type": "code",
   "execution_count": 66,
   "id": "8845f5d9",
   "metadata": {},
   "outputs": [],
   "source": [
    "arr2 = []\n",
    "for i in range(len(arr)):\n",
    "    arr2.append(arr[i].split(\" \"))"
   ]
  },
  {
   "cell_type": "code",
   "execution_count": 67,
   "id": "ed1bfc51",
   "metadata": {},
   "outputs": [
    {
     "data": {
      "text/plain": [
       "[['FOOF'], ['OCOO'], ['OOOH'], ['FOOO']]"
      ]
     },
     "execution_count": 67,
     "metadata": {},
     "output_type": "execute_result"
    }
   ],
   "source": [
    "arr2"
   ]
  },
  {
   "cell_type": "code",
   "execution_count": 8,
   "id": "e47d1c8d",
   "metadata": {},
   "outputs": [],
   "source": [
    "a1 = arr[0]"
   ]
  },
  {
   "cell_type": "code",
   "execution_count": 68,
   "id": "2f32341e",
   "metadata": {},
   "outputs": [
    {
     "data": {
      "text/plain": [
       "['F', 'O', 'O', 'F']"
      ]
     },
     "execution_count": 68,
     "metadata": {},
     "output_type": "execute_result"
    }
   ],
   "source": [
    "list(arr[0])"
   ]
  },
  {
   "cell_type": "code",
   "execution_count": 19,
   "id": "c55e3cd3",
   "metadata": {},
   "outputs": [
    {
     "name": "stdout",
     "output_type": "stream",
     "text": [
      "['F' 'O' 'O' 'F' 'O' 'C' 'O' 'O' 'O' 'O' 'O' 'H' 'F' 'O' 'O' 'O']\n"
     ]
    }
   ],
   "source": [
    "# result = np.concatenate((np.array(list(arr[0])), np.array(list(arr[1])), np.array(list(arr[2])), np.array(list(arr[3]))), axis= 0)\n",
    "# print(result)"
   ]
  },
  {
   "cell_type": "code",
   "execution_count": 138,
   "id": "d9fd4a5f",
   "metadata": {},
   "outputs": [],
   "source": [
    "a1 = np.array(list(arr[0])).reshape((1,4))\n",
    "a2 = np.array(list(arr[1])).reshape((1,4))\n",
    "a3 = np.array(list(arr[2])).reshape((1,4))\n",
    "a4 = np.array(list(arr[3])).reshape((1,4))"
   ]
  },
  {
   "cell_type": "code",
   "execution_count": 139,
   "id": "7ab42ac0",
   "metadata": {},
   "outputs": [
    {
     "data": {
      "text/plain": [
       "array([['F', 'O', 'O', 'F'],\n",
       "       ['O', 'C', 'O', 'O'],\n",
       "       ['O', 'O', 'O', 'H'],\n",
       "       ['F', 'O', 'O', 'O']], dtype='<U1')"
      ]
     },
     "execution_count": 139,
     "metadata": {},
     "output_type": "execute_result"
    }
   ],
   "source": [
    "result = np.concatenate((a1,a2,a3,a4),axis = 0)\n",
    "result"
   ]
  },
  {
   "cell_type": "code",
   "execution_count": 140,
   "id": "48af55ad",
   "metadata": {},
   "outputs": [],
   "source": [
    "food_ar = []\n",
    "\n",
    "for i in range(4):\n",
    "    for j in range(4):\n",
    "        if (result[i][j] == 'H'):\n",
    "            home_x = i\n",
    "            home_y = j\n",
    "            \n",
    "        elif (result[i][j] == 'C'):\n",
    "            dog_x = i\n",
    "            dog_y = j\n",
    "            \n",
    "        elif (result[i][j] == 'F'):\n",
    "            food_x = i\n",
    "            food_y = j\n",
    "            food_ar.append([food_x,food_y])"
   ]
  },
  {
   "cell_type": "code",
   "execution_count": 221,
   "id": "59c3e668",
   "metadata": {},
   "outputs": [
    {
     "data": {
      "text/plain": [
       "(2, 3)"
      ]
     },
     "execution_count": 221,
     "metadata": {},
     "output_type": "execute_result"
    }
   ],
   "source": [
    "home_x, home_y"
   ]
  },
  {
   "cell_type": "code",
   "execution_count": 142,
   "id": "25dc3ecd",
   "metadata": {},
   "outputs": [
    {
     "data": {
      "text/plain": [
       "(1, 1)"
      ]
     },
     "execution_count": 142,
     "metadata": {},
     "output_type": "execute_result"
    }
   ],
   "source": [
    "dog_x, dog_y"
   ]
  },
  {
   "cell_type": "code",
   "execution_count": 210,
   "id": "22f8a24a",
   "metadata": {},
   "outputs": [
    {
     "data": {
      "text/plain": [
       "[[0, 0], [0, 3], [3, 0]]"
      ]
     },
     "execution_count": 210,
     "metadata": {},
     "output_type": "execute_result"
    }
   ],
   "source": [
    "food_ar"
   ]
  },
  {
   "cell_type": "code",
   "execution_count": 315,
   "id": "8efe2964",
   "metadata": {},
   "outputs": [],
   "source": [
    "import itertools\n",
    "perm = list(itertools.permutations(food_ar))"
   ]
  },
  {
   "cell_type": "code",
   "execution_count": 316,
   "id": "e9cbc27e",
   "metadata": {},
   "outputs": [
    {
     "data": {
      "text/plain": [
       "[([0, 0], [0, 3], [3, 0]),\n",
       " ([0, 0], [3, 0], [0, 3]),\n",
       " ([0, 3], [0, 0], [3, 0]),\n",
       " ([0, 3], [3, 0], [0, 0]),\n",
       " ([3, 0], [0, 0], [0, 3]),\n",
       " ([3, 0], [0, 3], [0, 0])]"
      ]
     },
     "execution_count": 316,
     "metadata": {},
     "output_type": "execute_result"
    }
   ],
   "source": [
    "perm"
   ]
  },
  {
   "cell_type": "code",
   "execution_count": 317,
   "id": "67d069d3",
   "metadata": {},
   "outputs": [
    {
     "data": {
      "text/plain": [
       "array([[[0, 0],\n",
       "        [0, 3],\n",
       "        [3, 0]],\n",
       "\n",
       "       [[0, 0],\n",
       "        [3, 0],\n",
       "        [0, 3]],\n",
       "\n",
       "       [[0, 3],\n",
       "        [0, 0],\n",
       "        [3, 0]],\n",
       "\n",
       "       [[0, 3],\n",
       "        [3, 0],\n",
       "        [0, 0]],\n",
       "\n",
       "       [[3, 0],\n",
       "        [0, 0],\n",
       "        [0, 3]],\n",
       "\n",
       "       [[3, 0],\n",
       "        [0, 3],\n",
       "        [0, 0]]])"
      ]
     },
     "execution_count": 317,
     "metadata": {},
     "output_type": "execute_result"
    }
   ],
   "source": [
    "(np.array(perm))"
   ]
  },
  {
   "cell_type": "code",
   "execution_count": 318,
   "id": "1b31dbc7",
   "metadata": {},
   "outputs": [
    {
     "data": {
      "text/plain": [
       "array([[[1, 1],\n",
       "        [0, 0],\n",
       "        [0, 3],\n",
       "        [3, 0]],\n",
       "\n",
       "       [[1, 1],\n",
       "        [0, 0],\n",
       "        [3, 0],\n",
       "        [0, 3]],\n",
       "\n",
       "       [[1, 1],\n",
       "        [0, 3],\n",
       "        [0, 0],\n",
       "        [3, 0]],\n",
       "\n",
       "       [[1, 1],\n",
       "        [0, 3],\n",
       "        [3, 0],\n",
       "        [0, 0]],\n",
       "\n",
       "       [[1, 1],\n",
       "        [3, 0],\n",
       "        [0, 0],\n",
       "        [0, 3]],\n",
       "\n",
       "       [[1, 1],\n",
       "        [3, 0],\n",
       "        [0, 3],\n",
       "        [0, 0]]])"
      ]
     },
     "execution_count": 318,
     "metadata": {},
     "output_type": "execute_result"
    }
   ],
   "source": [
    "perm = np.insert(perm, 0,[dog_x, dog_y], axis= 1)\n",
    "perm"
   ]
  },
  {
   "cell_type": "code",
   "execution_count": 319,
   "id": "bfb0eed3",
   "metadata": {},
   "outputs": [
    {
     "data": {
      "text/plain": [
       "array([[[1, 1],\n",
       "        [0, 0],\n",
       "        [0, 3],\n",
       "        [3, 0],\n",
       "        [2, 3]],\n",
       "\n",
       "       [[1, 1],\n",
       "        [0, 0],\n",
       "        [3, 0],\n",
       "        [0, 3],\n",
       "        [2, 3]],\n",
       "\n",
       "       [[1, 1],\n",
       "        [0, 3],\n",
       "        [0, 0],\n",
       "        [3, 0],\n",
       "        [2, 3]],\n",
       "\n",
       "       [[1, 1],\n",
       "        [0, 3],\n",
       "        [3, 0],\n",
       "        [0, 0],\n",
       "        [2, 3]],\n",
       "\n",
       "       [[1, 1],\n",
       "        [3, 0],\n",
       "        [0, 0],\n",
       "        [0, 3],\n",
       "        [2, 3]],\n",
       "\n",
       "       [[1, 1],\n",
       "        [3, 0],\n",
       "        [0, 3],\n",
       "        [0, 0],\n",
       "        [2, 3]]])"
      ]
     },
     "execution_count": 319,
     "metadata": {},
     "output_type": "execute_result"
    }
   ],
   "source": [
    "perm = np.insert(perm, 4, [home_x, home_y], axis= 1)\n",
    "perm"
   ]
  },
  {
   "cell_type": "code",
   "execution_count": 320,
   "id": "ca39ca2a",
   "metadata": {},
   "outputs": [
    {
     "data": {
      "text/plain": [
       "(6, 5, 2)"
      ]
     },
     "execution_count": 320,
     "metadata": {},
     "output_type": "execute_result"
    }
   ],
   "source": [
    "perm.shape"
   ]
  },
  {
   "cell_type": "code",
   "execution_count": 329,
   "id": "3ebb91c6",
   "metadata": {},
   "outputs": [
    {
     "name": "stdout",
     "output_type": "stream",
     "text": [
      "[15, 13, 13, 17, 11, 17]\n"
     ]
    }
   ],
   "source": [
    "d = []\n",
    "a = 0\n",
    "\n",
    "for i in range(perm.shape[0]):\n",
    "    for j in range((perm.shape[1])-1):\n",
    "        a += np.abs(perm[i][j][0] - perm[i][j+1][0]) + np.abs(perm[i][j][1] - perm[i][j+1][1])\n",
    "        \n",
    "    d.append(a)\n",
    "    a = 0\n",
    "print(d)"
   ]
  },
  {
   "cell_type": "markdown",
   "id": "d5bf65b8",
   "metadata": {},
   "source": [
    "### Q5: Plus Minus"
   ]
  },
  {
   "cell_type": "code",
   "execution_count": 167,
   "id": "18d60857",
   "metadata": {},
   "outputs": [],
   "source": [
    "num = 26712"
   ]
  },
  {
   "cell_type": "code",
   "execution_count": 113,
   "id": "ad8b96b9",
   "metadata": {},
   "outputs": [
    {
     "data": {
      "text/plain": [
       "'26712'"
      ]
     },
     "execution_count": 113,
     "metadata": {},
     "output_type": "execute_result"
    }
   ],
   "source": [
    "# num_str = str(num)\n",
    "# num_str"
   ]
  },
  {
   "cell_type": "code",
   "execution_count": 168,
   "id": "ea0778ea",
   "metadata": {},
   "outputs": [
    {
     "data": {
      "text/plain": [
       "[2, 6, 7, 1, 2]"
      ]
     },
     "execution_count": 168,
     "metadata": {},
     "output_type": "execute_result"
    }
   ],
   "source": [
    "arr = [int(x) for x in str(num)]\n",
    "arr"
   ]
  },
  {
   "cell_type": "code",
   "execution_count": 119,
   "id": "4a97db1e",
   "metadata": {},
   "outputs": [],
   "source": [
    "def recursiveFunc(updated_array, updated_sum):\n",
    "    if (len(updated_array)==1):\n",
    "        if (updated_sum + updated_array[0] == 0):\n",
    "            return '+'\n",
    "        \n",
    "        elif (updated_sum - updated_array[0] == 0):\n",
    "            return '-'\n",
    "        else:\n",
    "            return 'not possible'\n",
    "        \n",
    "    num_str1 = recursiveFunc(updated_array[1:], updated_sum + updated_array[0])\n",
    "    \n",
    "    if (num_str1 != 'not possible'):\n",
    "        return '+' + num_str1\n",
    "    \n",
    "    num_str2 = recursiveFunc(updated_array[1:], updated_sum - updated_array[0])\n",
    "    \n",
    "    if (num_str2 != 'not possible'):\n",
    "        return '-' + num_str2\n",
    "    \n",
    "    \n",
    "    \n",
    "    return 'not possible'"
   ]
  },
  {
   "cell_type": "code",
   "execution_count": null,
   "id": "ccf019a5",
   "metadata": {},
   "outputs": [],
   "source": []
  },
  {
   "cell_type": "code",
   "execution_count": null,
   "id": "67477552",
   "metadata": {},
   "outputs": [],
   "source": []
  },
  {
   "cell_type": "code",
   "execution_count": 169,
   "id": "e35fa834",
   "metadata": {},
   "outputs": [
    {
     "name": "stdout",
     "output_type": "stream",
     "text": [
      "-+--\n"
     ]
    }
   ],
   "source": [
    "if len(arr) < 2:\n",
    "    print('not possible')\n",
    "    \n",
    "else:\n",
    "    print(recursiveFunc(arr[1:], arr[0]))"
   ]
  },
  {
   "cell_type": "markdown",
   "id": "47fe63b6",
   "metadata": {},
   "source": [
    "### Q2: Longest Increasing Sequence"
   ]
  },
  {
   "cell_type": "code",
   "execution_count": 127,
   "id": "13ef3b66",
   "metadata": {},
   "outputs": [],
   "source": [
    "arr = [4,3,5,1,6]\n",
    "N = len(arr)\n",
    "dp = [1]*N"
   ]
  },
  {
   "cell_type": "code",
   "execution_count": 135,
   "id": "b93ca05d",
   "metadata": {},
   "outputs": [
    {
     "name": "stdout",
     "output_type": "stream",
     "text": [
      "[1, 1, 2, 1, 3]\n"
     ]
    }
   ],
   "source": [
    "for n in range(len(arr)):\n",
    "    for i in range(n):\n",
    "        if arr[i] < arr[n]:\n",
    "            dp[n] = max(dp[n],dp[i]+1)\n",
    "print((dp))"
   ]
  },
  {
   "cell_type": "code",
   "execution_count": 132,
   "id": "a6d30e88",
   "metadata": {},
   "outputs": [
    {
     "data": {
      "text/plain": [
       "3"
      ]
     },
     "execution_count": 132,
     "metadata": {},
     "output_type": "execute_result"
    }
   ],
   "source": [
    "max(dp)"
   ]
  },
  {
   "cell_type": "code",
   "execution_count": 1,
   "id": "af3124c8",
   "metadata": {},
   "outputs": [],
   "source": [
    "def BasicRomanNumerals(strParam):\n",
    "\n",
    "  # code goes here\n",
    "\n",
    "  roman_numerals = {'I': 1, 'V': 5, 'X': 10, 'L': 50, 'C':100, 'D':500, 'M': 1000}\n",
    "  numbers = 0\n",
    "\n",
    "  for i in range(len(strParam)):\n",
    "    value = roman_numerals[strParam[i]]\n",
    "    \n",
    "    if (i+1)< len(strParam) and roman_numerals[strParam[i+1]] > value:\n",
    "      numbers = numbers - value\n",
    "\n",
    "    else:\n",
    "      numbers = numbers + value\n",
    "  \n",
    "  return numbers"
   ]
  },
  {
   "cell_type": "code",
   "execution_count": 3,
   "id": "2f29c882",
   "metadata": {},
   "outputs": [
    {
     "name": "stdout",
     "output_type": "stream",
     "text": [
      "50\n"
     ]
    }
   ],
   "source": [
    "print(BasicRomanNumerals(\"XXXVVIIIIIIIIII\"))"
   ]
  },
  {
   "cell_type": "code",
   "execution_count": 27,
   "id": "edc619fd",
   "metadata": {},
   "outputs": [
    {
     "name": "stdout",
     "output_type": "stream",
     "text": [
      "MDXX\n"
     ]
    }
   ],
   "source": [
    "def num_to_roman(num):\n",
    "   res = \"\"\n",
    "   table = [\n",
    "      (1000, \"M\"),\n",
    "      (900, \"CM\"),\n",
    "      (500, \"D\"),\n",
    "      (400, \"CD\"),\n",
    "      (100, \"C\"),\n",
    "      (90, \"XC\"),\n",
    "      (50, \"L\"),\n",
    "      (40, \"XL\"),\n",
    "      (10, \"X\"),\n",
    "      (9, \"IX\"),\n",
    "      (5, \"V\"),\n",
    "      (4, \"IV\"),\n",
    "      (1, \"I\"),\n",
    "   ]\n",
    "\n",
    "   for cap, roman in table:\n",
    "      q, r = divmod(num, cap)\n",
    "      res += roman * q\n",
    "      num = r\n",
    "\n",
    "   return res\n",
    "\n",
    "num = 1520\n",
    "print(solve(num))"
   ]
  },
  {
   "cell_type": "code",
   "execution_count": 21,
   "id": "c90733f3",
   "metadata": {},
   "outputs": [],
   "source": [
    "def int_to_roman(number):\n",
    "    \n",
    "    roman = [\n",
    "    (1000, \"M\"),\n",
    "    ( 900, \"CM\"),\n",
    "    ( 500, \"D\"),\n",
    "    ( 400, \"CD\"),\n",
    "    ( 100, \"C\"),\n",
    "    (  90, \"XC\"),\n",
    "    (  50, \"L\"),\n",
    "    (  40, \"XL\"),\n",
    "    (  10, \"X\"),\n",
    "    (   9, \"IX\"),\n",
    "    (   5, \"V\"),\n",
    "    (   4, \"IV\"),\n",
    "    (   1, \"I\"),\n",
    "]\n",
    "    \n",
    "    result = []\n",
    "    for (arabic, roman) in dict(roman):\n",
    "        (factor, number) = divmod(number, arabic)\n",
    "        result.append(roman * factor)\n",
    "        if number == 0:\n",
    "            break\n",
    "    return \"\".join(result)"
   ]
  },
  {
   "cell_type": "code",
   "execution_count": 17,
   "id": "b9a2347e",
   "metadata": {},
   "outputs": [],
   "source": [
    "r = dict(roman)"
   ]
  },
  {
   "cell_type": "code",
   "execution_count": 22,
   "id": "d493d1b6",
   "metadata": {},
   "outputs": [
    {
     "ename": "TypeError",
     "evalue": "cannot unpack non-iterable int object",
     "output_type": "error",
     "traceback": [
      "\u001b[1;31m---------------------------------------------------------------------------\u001b[0m",
      "\u001b[1;31mTypeError\u001b[0m                                 Traceback (most recent call last)",
      "\u001b[1;32m~\\AppData\\Local\\Temp\\ipykernel_7976\\1063726669.py\u001b[0m in \u001b[0;36m<module>\u001b[1;34m\u001b[0m\n\u001b[1;32m----> 1\u001b[1;33m \u001b[0mint_to_roman\u001b[0m\u001b[1;33m(\u001b[0m\u001b[1;36m49\u001b[0m\u001b[1;33m)\u001b[0m\u001b[1;33m\u001b[0m\u001b[1;33m\u001b[0m\u001b[0m\n\u001b[0m",
      "\u001b[1;32m~\\AppData\\Local\\Temp\\ipykernel_7976\\4100801726.py\u001b[0m in \u001b[0;36mint_to_roman\u001b[1;34m(number)\u001b[0m\n\u001b[0;32m     18\u001b[0m \u001b[1;33m\u001b[0m\u001b[0m\n\u001b[0;32m     19\u001b[0m     \u001b[0mresult\u001b[0m \u001b[1;33m=\u001b[0m \u001b[1;33m[\u001b[0m\u001b[1;33m]\u001b[0m\u001b[1;33m\u001b[0m\u001b[1;33m\u001b[0m\u001b[0m\n\u001b[1;32m---> 20\u001b[1;33m     \u001b[1;32mfor\u001b[0m \u001b[1;33m(\u001b[0m\u001b[0marabic\u001b[0m\u001b[1;33m,\u001b[0m \u001b[0mroman\u001b[0m\u001b[1;33m)\u001b[0m \u001b[1;32min\u001b[0m \u001b[0mdict\u001b[0m\u001b[1;33m(\u001b[0m\u001b[0mroman\u001b[0m\u001b[1;33m)\u001b[0m\u001b[1;33m:\u001b[0m\u001b[1;33m\u001b[0m\u001b[1;33m\u001b[0m\u001b[0m\n\u001b[0m\u001b[0;32m     21\u001b[0m         \u001b[1;33m(\u001b[0m\u001b[0mfactor\u001b[0m\u001b[1;33m,\u001b[0m \u001b[0mnumber\u001b[0m\u001b[1;33m)\u001b[0m \u001b[1;33m=\u001b[0m \u001b[0mdivmod\u001b[0m\u001b[1;33m(\u001b[0m\u001b[0mnumber\u001b[0m\u001b[1;33m,\u001b[0m \u001b[0marabic\u001b[0m\u001b[1;33m)\u001b[0m\u001b[1;33m\u001b[0m\u001b[1;33m\u001b[0m\u001b[0m\n\u001b[0;32m     22\u001b[0m         \u001b[0mresult\u001b[0m\u001b[1;33m.\u001b[0m\u001b[0mappend\u001b[0m\u001b[1;33m(\u001b[0m\u001b[0mroman\u001b[0m \u001b[1;33m*\u001b[0m \u001b[0mfactor\u001b[0m\u001b[1;33m)\u001b[0m\u001b[1;33m\u001b[0m\u001b[1;33m\u001b[0m\u001b[0m\n",
      "\u001b[1;31mTypeError\u001b[0m: cannot unpack non-iterable int object"
     ]
    }
   ],
   "source": [
    "int_to_roman(49)"
   ]
  },
  {
   "cell_type": "code",
   "execution_count": null,
   "id": "f30726d7",
   "metadata": {},
   "outputs": [],
   "source": []
  }
 ],
 "metadata": {
  "kernelspec": {
   "display_name": "Python 3 (ipykernel)",
   "language": "python",
   "name": "python3"
  },
  "language_info": {
   "codemirror_mode": {
    "name": "ipython",
    "version": 3
   },
   "file_extension": ".py",
   "mimetype": "text/x-python",
   "name": "python",
   "nbconvert_exporter": "python",
   "pygments_lexer": "ipython3",
   "version": "3.9.13"
  }
 },
 "nbformat": 4,
 "nbformat_minor": 5
}
